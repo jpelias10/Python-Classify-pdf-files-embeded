{
 "cells": [
  {
   "cell_type": "code",
   "execution_count": 84,
   "id": "746fda91-4a98-4213-b8ca-9a611438386f",
   "metadata": {},
   "outputs": [],
   "source": [
    "import os\n",
    "import shutil\n",
    "from pathlib import Path\n",
    "import nltk\n",
    "from openai import OpenAI\n",
    "from langchain_community.document_loaders import PyPDFLoader\n",
    "from langchain.text_splitter import RecursiveCharacterTextSplitter"
   ]
  },
  {
   "cell_type": "code",
   "execution_count": 86,
   "id": "a4fa04bf-ebf5-48a4-a6c1-53be13b521d3",
   "metadata": {},
   "outputs": [],
   "source": [
    "client = OpenAI(\n",
    "    api_key=\"Put_your_api_key / or use .env\",\n",
    ")"
   ]
  },
  {
   "cell_type": "code",
   "execution_count": 88,
   "id": "bb42565b-2b0d-48e7-886c-152e4a16fc1f",
   "metadata": {},
   "outputs": [],
   "source": [
    "# Initialize cache to store previously classified chunks\n",
    "category_cache = {}"
   ]
  },
  {
   "cell_type": "code",
   "execution_count": 90,
   "id": "4c760b0f-85c2-4d76-930c-444106dba88b",
   "metadata": {},
   "outputs": [],
   "source": [
    "def sanitize_folder_name(name):\n",
    "    # Replace invalid characters for Windows folder names\n",
    "    name = ''.join(char for char in name if char.isalnum() or char in (' ', '-')).strip()\n",
    "    return name.replace('\\n', '_')  # Replace newlines with underscores"
   ]
  },
  {
   "cell_type": "code",
   "execution_count": 92,
   "id": "198ce0e1-f2f2-49e3-ae1a-4353d03ab7ad",
   "metadata": {},
   "outputs": [],
   "source": [
    "def classify_with_openai(text):\n",
    "    if text in category_cache:\n",
    "        return category_cache[text]  # Return cached category if it exists\n",
    "    try:\n",
    "        # Call OpenAI to classify the text\n",
    "        response = client.chat.completions.create(\n",
    "            model=\"gpt-3.5-turbo\",\n",
    "            messages=[\n",
    "                {\"role\": \"user\", \"content\": f\"Classify the following text into a single category name (one word): {text}. Provide a name like 'Insurance', 'Finance', etc.\"}\n",
    "            ]\n",
    "        )\n",
    "         # Extract the category from the response\n",
    "        category = response.choices[0].message.content.strip()\n",
    "        if category:\n",
    "            # Return the first word found, sanitized\n",
    "            return sanitize_folder_name(category.split()[0])  # Get only the first word\n",
    "        else:\n",
    "            return \"uncategorized\"\n",
    "    except Exception as e:\n",
    "        print(f\"Error during OpenAI classification: {e}\")\n",
    "        return \"uncategorized\""
   ]
  },
  {
   "cell_type": "code",
   "execution_count": 94,
   "id": "b3cf9de2-5a20-4073-a90f-cd1f3294940d",
   "metadata": {},
   "outputs": [],
   "source": [
    "def split_and_classify(content, max_chunks=5):\n",
    "    \"\"\"Split large content and classify up to max_chunks.\"\"\"\n",
    "    # Split the document into smaller chunks\n",
    "    splitter = RecursiveCharacterTextSplitter(chunk_size=1000, chunk_overlap=200)\n",
    "    chunks = splitter.split_text(content)\n",
    "\n",
    "    # Limit the number of chunks to classify (e.g., first 5)\n",
    "    classified_chunks = []\n",
    "    for chunk in chunks[:max_chunks]:  # Classify only first few chunks\n",
    "        category = classify_with_openai(chunk)\n",
    "        classified_chunks.append(category)\n",
    "\n",
    "    # Return the most common category among the classified chunks\n",
    "    return max(set(classified_chunks), key=classified_chunks.count)"
   ]
  },
  {
   "cell_type": "code",
   "execution_count": 114,
   "id": "eb9ea305-11de-4588-9ad5-f948aceb88ac",
   "metadata": {},
   "outputs": [],
   "source": [
    "def classify_pdfs(input_dir):\n",
    "    input_dir = Path(input_dir)\n",
    "\n",
    "    # Ensure the input directory exists\n",
    "    if not input_dir.exists():\n",
    "        print(f\"Directory {input_dir} not found. Please create it.\")\n",
    "        return\n",
    "\n",
    "    # Collect all PDF files to process in a list\n",
    "    files_to_process = list(input_dir.rglob('*.pdf'))\n",
    "\n",
    "    # Iterate through the collected PDF files\n",
    "    for file in files_to_process:  # Only look for PDF files\n",
    "        if file.is_file():\n",
    "            print(f\"Processing {file.name}\")\n",
    "            try:\n",
    "                # Load PDF content using PyPDFLoader without splitting\n",
    "                loader = PyPDFLoader(str(file))\n",
    "                document = loader.load()  # Load the entire document\n",
    "\n",
    "                # Combine the content of the loaded document into a single string for classification\n",
    "                full_content = document[0].page_content if document else \"\"\n",
    "\n",
    "                # Split and classify the content (handle large files by classifying only part of it)\n",
    "                final_category = split_and_classify(full_content)\n",
    "\n",
    "                # Determine the category folder\n",
    "                if final_category:\n",
    "                    category_folder = input_dir / final_category\n",
    "                    print(f\"Attempting to create/move to folder: {category_folder}\")  # Debug output\n",
    "                    category_folder.mkdir(parents=True, exist_ok=True)\n",
    "\n",
    "                    # Move the file to the corresponding category folder\n",
    "                    shutil.move(str(file), category_folder / file.name)\n",
    "                    print(f\"Classified {file.name} into {category_folder}\")\n",
    "                else:\n",
    "                    # If no category matched, move to 'uncategorized'\n",
    "                    uncategorized_folder = input_dir / 'uncategorized'\n",
    "                    uncategorized_folder.mkdir(parents=True, exist_ok=True)\n",
    "                    shutil.move(str(file), uncategorized_folder / file.name)\n",
    "                    print(f\"Classified {file.name} into {uncategorized_folder}\")\n",
    "\n",
    "            except Exception as e:\n",
    "                print(f\"Error processing {file.name}: {e}\")"
   ]
  },
  {
   "cell_type": "code",
   "execution_count": 118,
   "id": "ad99af09-3e20-4e04-965a-63a4f5822fbd",
   "metadata": {},
   "outputs": [
    {
     "name": "stdout",
     "output_type": "stream",
     "text": [
      "Processing Attestation CVEC 2023-2024.pdf\n",
      "Error processing Attestation CVEC 2023-2024.pdf: max() iterable argument is empty\n",
      "Processing CARNIVORE DIET.pdf\n",
      "Attempting to create/move to folder: C:\\Users\\paule\\OneDrive\\Bureau\\2024suce\\Diet\n",
      "Classified CARNIVORE DIET.pdf into C:\\Users\\paule\\OneDrive\\Bureau\\2024suce\\Diet\n",
      "Processing Etude biblique.pdf\n",
      "Attempting to create/move to folder: C:\\Users\\paule\\OneDrive\\Bureau\\2024suce\\Religion\n",
      "Classified Etude biblique.pdf into C:\\Users\\paule\\OneDrive\\Bureau\\2024suce\\Religion\n",
      "Processing Gym Super-Héro ( à jour sur Drive ).pdf\n",
      "Attempting to create/move to folder: C:\\Users\\paule\\OneDrive\\Bureau\\2024suce\\Fitness\n",
      "Classified Gym Super-Héro ( à jour sur Drive ).pdf into C:\\Users\\paule\\OneDrive\\Bureau\\2024suce\\Fitness\n",
      "Processing Plan épargne 2024.pdf\n",
      "Attempting to create/move to folder: C:\\Users\\paule\\OneDrive\\Bureau\\2024suce\\Finance\n",
      "Classified Plan épargne 2024.pdf into C:\\Users\\paule\\OneDrive\\Bureau\\2024suce\\Finance\n",
      "Processing Programme Musculation ( à jour sur Drive ).pdf\n",
      "Attempting to create/move to folder: C:\\Users\\paule\\OneDrive\\Bureau\\2024suce\\FITNESS\n",
      "Classified Programme Musculation ( à jour sur Drive ).pdf into C:\\Users\\paule\\OneDrive\\Bureau\\2024suce\\FITNESS\n"
     ]
    }
   ],
   "source": [
    "if __name__ == \"__main__\":\n",
    "    input_dir = r\"your_path\"  # Specify your input directory here\n",
    "    classify_pdfs(input_dir)"
   ]
  },
  {
   "cell_type": "code",
   "execution_count": null,
   "id": "8707d686-ac8d-4152-a058-584f784a2e47",
   "metadata": {},
   "outputs": [],
   "source": []
  }
 ],
 "metadata": {
  "kernelspec": {
   "display_name": "Python 3 (ipykernel)",
   "language": "python",
   "name": "python3"
  },
  "language_info": {
   "codemirror_mode": {
    "name": "ipython",
    "version": 3
   },
   "file_extension": ".py",
   "mimetype": "text/x-python",
   "name": "python",
   "nbconvert_exporter": "python",
   "pygments_lexer": "ipython3",
   "version": "3.12.4"
  }
 },
 "nbformat": 4,
 "nbformat_minor": 5
}
